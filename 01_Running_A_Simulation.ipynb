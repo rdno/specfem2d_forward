{
 "cells": [
  {
   "cell_type": "code",
   "execution_count": null,
   "id": "9a95134d-adc0-4daf-885b-c84baedb2ea3",
   "metadata": {},
   "outputs": [],
   "source": [
    "import os\n",
    "import shutil\n",
    "from pathlib import Path\n",
    "\n",
    "from IPython.display import Image, display\n",
    "\n",
    "import matplotlib.pyplot as plt\n",
    "import numpy as np\n",
    "import obspy"
   ]
  },
  {
   "cell_type": "code",
   "execution_count": null,
   "id": "15a59d36-d2da-4ebf-bd31-f59716832bb0",
   "metadata": {},
   "outputs": [],
   "source": [
    "# Define root_dir only if it is not already defined. This way root_dir stays the same, even if you change the work directory.\n",
    "try:\n",
    "    root_dir\n",
    "except NameError:\n",
    "    root_dir = Path(os.curdir).absolute()\n",
    "\n",
    "# SPECFEM bin directory\n",
    "SPECFEM2D_BIN = root_dir / \"specfem2d\" / \"bin\"\n",
    "# Simulation directory\n",
    "run_folder = root_dir / \"01_Default_Model\"\n",
    "# Go into run directory\n",
    "os.chdir(run_folder)\n",
    "# More readable paths\n",
    "run_folder = run_folder.relative_to(Path(\".\").absolute())"
   ]
  },
  {
   "cell_type": "markdown",
   "id": "b0e92e26-34be-474d-b056-1c68d8ae5c62",
   "metadata": {
    "tags": []
   },
   "source": [
    "# Running A Simulation"
   ]
  },
  {
   "cell_type": "markdown",
   "id": "6e4b1eb9-b1be-43c9-a4ba-30df9a44c944",
   "metadata": {},
   "source": [
    "Create a clean `OUTPUT_FILES` directory."
   ]
  },
  {
   "cell_type": "code",
   "execution_count": null,
   "id": "d9d8c6d6-6a44-4a0e-b1e2-22c5b37d29c5",
   "metadata": {},
   "outputs": [],
   "source": [
    "output_folder = run_folder / \"OUTPUT_FILES\"\n",
    "\n",
    "if output_folder.exists():\n",
    "    shutil.rmtree(output_folder)\n",
    "\n",
    "output_folder.mkdir()"
   ]
  },
  {
   "cell_type": "markdown",
   "id": "f14319dd-cb71-4a58-891b-ab89f3ab1414",
   "metadata": {},
   "source": [
    "Running the mesher"
   ]
  },
  {
   "cell_type": "code",
   "execution_count": null,
   "id": "41368ece-8762-4b1e-bb5a-1b47d9eeba74",
   "metadata": {
    "tags": []
   },
   "outputs": [],
   "source": [
    "! $SPECFEM2D_BIN/xmeshfem2D"
   ]
  },
  {
   "cell_type": "code",
   "execution_count": null,
   "id": "c49acccb-61ce-453c-bdf4-d63996d63b98",
   "metadata": {
    "tags": []
   },
   "outputs": [],
   "source": [
    "! $SPECFEM2D_BIN/xspecfem2D"
   ]
  },
  {
   "cell_type": "markdown",
   "id": "2641c4ff-e382-47cd-bc2e-3b0d82a2046e",
   "metadata": {
    "tags": []
   },
   "source": [
    "# Outputs"
   ]
  },
  {
   "cell_type": "markdown",
   "id": "7aa9ecac-78a6-4227-b2f4-6f407edd732a",
   "metadata": {},
   "source": [
    "### Seismograms\n",
    "\n",
    "Seismograms are written in `OUTPUT_FILES` directory. Since in this simulation, we are working with displacements and ascii outputs, it created files with `.semd` extension."
   ]
  },
  {
   "cell_type": "code",
   "execution_count": null,
   "id": "847e35b0-aa0b-4818-8344-beeed05b861f",
   "metadata": {},
   "outputs": [],
   "source": [
    "seismograms = sorted(output_folder.glob(\"*.semd\"))\n",
    "print(\"Example files:\")\n",
    "seismograms[:5]"
   ]
  },
  {
   "cell_type": "markdown",
   "id": "e062c812-ea2e-4517-960e-3fccb89b9e89",
   "metadata": {},
   "source": [
    "Seismogram files are `ascii` files with columns representing time and values."
   ]
  },
  {
   "cell_type": "code",
   "execution_count": null,
   "id": "b5ee4d82-2353-4562-b72f-c5241b2c490d",
   "metadata": {},
   "outputs": [],
   "source": [
    "seismogram_file = seismograms[0]\n",
    "print(f\"{seismogram_file}:\")\n",
    "! head $seismogram_file\n",
    "print(\"...\")"
   ]
  },
  {
   "cell_type": "markdown",
   "id": "643742a8-f641-4104-9e37-dbf6cccec136",
   "metadata": {
    "jp-MarkdownHeadingCollapsed": true,
    "tags": []
   },
   "source": [
    "#### SAC"
   ]
  },
  {
   "cell_type": "markdown",
   "id": "69a80b45-e93d-4337-a0a9-941777bf364e",
   "metadata": {
    "tags": []
   },
   "source": [
    "For quick look, you can open them using `sac`\n",
    "\n",
    "```console\n",
    "$ sac\n",
    " SEISMIC ANALYSIS CODE [09/11/2019 (Version 101.6)]\n",
    " Copyright 1995 Regents of the University of California\n",
    "\n",
    "SAC> readtable content p ./OUTPUT_FILES/AA.S0001.BXZ.semd\n",
    "SAC> p1\n",
    "```\n",
    "\n",
    "![Plot of a seismogram using sac](./include/sacplot.png)"
   ]
  },
  {
   "cell_type": "markdown",
   "id": "ce07b74a-b4e8-4374-9266-65703bf844d4",
   "metadata": {},
   "source": [
    "#### Using Python"
   ]
  },
  {
   "cell_type": "code",
   "execution_count": null,
   "id": "e144bca0-f55c-4e8a-bf81-709a063fdb2d",
   "metadata": {},
   "outputs": [],
   "source": [
    "data = np.loadtxt(seismogram_file)\n",
    "data"
   ]
  },
  {
   "cell_type": "code",
   "execution_count": null,
   "id": "9910f432-8a0d-4dbd-8de0-1a78390c9c3c",
   "metadata": {},
   "outputs": [],
   "source": [
    "fig, ax = plt.subplots(figsize=(12, 3))\n",
    "ax.plot(data[:, 0], data[:, 1], \"k\")\n",
    "ax.set_xlabel(\"Time [s]\")\n",
    "ax.set_ylabel(\"Displacement\")\n",
    "ax.set_title(seismogram_file.stem)\n",
    "fig.tight_layout()"
   ]
  },
  {
   "cell_type": "code",
   "execution_count": null,
   "id": "5be1c92b-031a-4558-9c4b-91f0ea51efb1",
   "metadata": {},
   "outputs": [],
   "source": [
    "def read_ascii_trace(filename: Path):\n",
    "    \"\"\"Reads SPECFEM2D ascii file and returns a obspy.Trace\"\"\"\n",
    "    data = np.loadtxt(filename)\n",
    "    # Find deltat\n",
    "    dt = data[:, 0][1]-data[:, 0][0]\n",
    "    net, sta, comp = filename.stem.split(\".\")\n",
    "    \n",
    "    stats = {\"delta\": dt, \"network\": net, \"station\": sta, \"channel\": comp, \"b\": data[0, 0]}\n",
    "    return obspy.Trace(data[:, 1], stats)"
   ]
  },
  {
   "cell_type": "code",
   "execution_count": null,
   "id": "53bd4093-02b1-498b-a16a-c8485419d544",
   "metadata": {},
   "outputs": [],
   "source": [
    "tr = read_ascii_trace(seismogram_file)\n",
    "tr.plot();"
   ]
  },
  {
   "cell_type": "markdown",
   "id": "e6998f19-863f-4691-9fe6-71e524cc845e",
   "metadata": {},
   "source": [
    "# Wavefield Plots"
   ]
  },
  {
   "cell_type": "code",
   "execution_count": null,
   "id": "0d4c6dce-956a-4201-af1a-a0aa4dd17495",
   "metadata": {},
   "outputs": [],
   "source": [
    "wavefield_plots = sorted(output_folder.glob(\"*.jpg\"))"
   ]
  },
  {
   "cell_type": "code",
   "execution_count": null,
   "id": "1fd92d28-90d5-4cf9-9105-7820bce9dd91",
   "metadata": {},
   "outputs": [],
   "source": [
    "for wavefield_plot in wavefield_plots:\n",
    "    display(Image(filename=wavefield_plot))"
   ]
  }
 ],
 "metadata": {
  "kernelspec": {
   "display_name": "Python 3 (ipykernel)",
   "language": "python",
   "name": "python3"
  },
  "language_info": {
   "codemirror_mode": {
    "name": "ipython",
    "version": 3
   },
   "file_extension": ".py",
   "mimetype": "text/x-python",
   "name": "python",
   "nbconvert_exporter": "python",
   "pygments_lexer": "ipython3",
   "version": "3.10.5"
  }
 },
 "nbformat": 4,
 "nbformat_minor": 5
}
