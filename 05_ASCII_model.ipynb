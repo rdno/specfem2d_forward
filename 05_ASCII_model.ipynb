{
 "cells": [
  {
   "cell_type": "code",
   "execution_count": null,
   "id": "675dc1ca-8333-4c2e-980d-c59268aec02c",
   "metadata": {},
   "outputs": [],
   "source": [
    "import os\n",
    "import shutil\n",
    "from pathlib import Path\n",
    "\n",
    "import matplotlib.pyplot as plt\n",
    "import numpy as np\n",
    "import obspy\n",
    "from IPython.display import Image, display\n",
    "\n",
    "from utils.misc import print_verification\n",
    "from utils.plot_all_seismograms import plot_all_seismograms\n",
    "from utils.plot_ascii_trace import read_ascii_trace"
   ]
  },
  {
   "cell_type": "code",
   "execution_count": null,
   "id": "202e8302-c585-4eac-98d9-f69a2c4fd916",
   "metadata": {},
   "outputs": [],
   "source": [
    "# Define root_dir only if it is not already defined. This way root_dir stays the same, even if you change the work directory.\n",
    "try:\n",
    "    root_dir\n",
    "except NameError:\n",
    "    root_dir = Path(os.curdir).absolute()\n",
    "\n",
    "# SPECFEM bin directory\n",
    "SPECFEM2D_BIN = root_dir / \"specfem2d\" / \"bin\"\n",
    "# Simulation directory\n",
    "run_folder = root_dir / \"05_ASCII_model\"\n",
    "# Go into run directory\n",
    "os.chdir(run_folder)\n",
    "# More readable paths\n",
    "run_folder = run_folder.relative_to(Path(\".\").absolute())\n",
    "output_folder = run_folder / \"OUTPUT_FILES\""
   ]
  },
  {
   "cell_type": "code",
   "execution_count": null,
   "id": "6859a0e2-1cc1-404c-85dd-dc1aa64db611",
   "metadata": {},
   "outputs": [],
   "source": [
    "def make_output_dir():\n",
    "    if output_folder.exists():\n",
    "        shutil.rmtree(output_folder)\n",
    "    output_folder.mkdir()"
   ]
  },
  {
   "cell_type": "markdown",
   "id": "79f81aca-a664-4c22-9161-713d2fb3b3b3",
   "metadata": {
    "tags": []
   },
   "source": [
    "# Saving the model as ASCII file"
   ]
  },
  {
   "cell_type": "code",
   "execution_count": null,
   "id": "a55a4b9f-a522-45ba-a59e-bd9c351edc03",
   "metadata": {},
   "outputs": [],
   "source": [
    "! grep SAVE_MODEL DATA/Par_file"
   ]
  },
  {
   "cell_type": "code",
   "execution_count": null,
   "id": "11a46bb1-4e82-441d-8b63-8cc821da5a2c",
   "metadata": {},
   "outputs": [],
   "source": [
    "! ../utils/parfile -s NSTEP 2"
   ]
  },
  {
   "cell_type": "code",
   "execution_count": null,
   "id": "b0f8af6f-50ff-4b8f-bdb5-3263a5d151ef",
   "metadata": {},
   "outputs": [],
   "source": [
    "make_output_dir()\n",
    "! $SPECFEM2D_BIN/xmeshfem2D > $output_folder/output_mesher.txt\n",
    "! $SPECFEM2D_BIN/xspecfem2D > $output_folder/output_solver.txt"
   ]
  },
  {
   "cell_type": "markdown",
   "id": "a36c6f74-ca73-4bcc-9efc-a052d5022dd5",
   "metadata": {},
   "source": [
    "Outputs the `DATA/proc000000_rho_vp_vs.dat` file. Format is `X Z RHO VP VS`"
   ]
  },
  {
   "cell_type": "code",
   "execution_count": null,
   "id": "ab3d3df5-da0c-4d68-b93a-aa107beb5700",
   "metadata": {},
   "outputs": [],
   "source": [
    "! head DATA/proc000000_rho_vp_vs.dat"
   ]
  },
  {
   "cell_type": "markdown",
   "id": "03780133-a4ba-45d6-b5ba-14cc718872b8",
   "metadata": {},
   "source": [
    "### Modifying the Model"
   ]
  },
  {
   "cell_type": "code",
   "execution_count": null,
   "id": "0045664f-110a-42df-9e35-7b26bb88321f",
   "metadata": {},
   "outputs": [],
   "source": [
    "# Puts a low velocity zone in 1000-2000 in X and Z directions.\n",
    "model = np.loadtxt(\"./DATA/proc000000_rho_vp_vs.dat\")\n",
    "rows, columns = model.shape\n",
    "\n",
    "XMIN, XMAX = 1000, 2000\n",
    "ZMIN, ZMAX = 1000, 2000\n",
    "\n",
    "for i in range(rows):\n",
    "    # X Z rho vp vs\n",
    "    x, z, rho, vp, vs = model[i, :]\n",
    "    if XMIN <= x <= XMAX and ZMIN <= z <= ZMAX:\n",
    "        # half Vp and Vs\n",
    "        model[i, 3] = vp / 2.0\n",
    "        model[i, 4] = vp / 2.0\n",
    "\n",
    "np.savetxt(\"./DATA/proc000000_rho_vp_vs.dat\", model)"
   ]
  },
  {
   "cell_type": "markdown",
   "id": "1ec0b272-c55e-49a9-b6ba-e372fbf9011c",
   "metadata": {},
   "source": [
    "### Using modified model"
   ]
  },
  {
   "cell_type": "code",
   "execution_count": null,
   "id": "6ef2e9d0-55af-4256-bfce-28b6694f0d66",
   "metadata": {},
   "outputs": [],
   "source": [
    "! parfile -s MODEL ascii\n",
    "! parfile -s SAVE_MODEL default\n",
    "! parfile -s NSTEP 1600"
   ]
  },
  {
   "cell_type": "markdown",
   "id": "f10420ea-ca79-4feb-9553-2c8dc0d6bd1e",
   "metadata": {},
   "source": [
    "## Running modified model"
   ]
  },
  {
   "cell_type": "code",
   "execution_count": null,
   "id": "1cdca75a-c1de-48f5-a3a9-f7593b6bcba3",
   "metadata": {},
   "outputs": [],
   "source": [
    "make_output_dir()\n",
    "! $SPECFEM2D_BIN/xmeshfem2D > $output_folder/output_mesher.txt\n",
    "! $SPECFEM2D_BIN/xspecfem2D > $output_folder/output_solver.txt"
   ]
  },
  {
   "cell_type": "markdown",
   "id": "40e20b28-9978-4154-a334-17ce9d7e260c",
   "metadata": {},
   "source": [
    "### Wavefield Plot"
   ]
  },
  {
   "cell_type": "code",
   "execution_count": null,
   "id": "c08e7fd7-4c80-4ac1-ae83-05afeec733c4",
   "metadata": {},
   "outputs": [],
   "source": [
    "Image(output_folder / \"forward_image000000500.jpg\")"
   ]
  },
  {
   "cell_type": "markdown",
   "id": "777d1ba5-d76c-4895-8d40-926df2bbf446",
   "metadata": {},
   "source": [
    "### Seismograms"
   ]
  },
  {
   "cell_type": "code",
   "execution_count": null,
   "id": "7e177c6c-4adf-407b-8690-384691a5bd6d",
   "metadata": {},
   "outputs": [],
   "source": [
    "fig, axes = plot_all_seismograms(output_folder)\n",
    "fig.tight_layout()"
   ]
  }
 ],
 "metadata": {
  "kernelspec": {
   "display_name": "Python 3 (ipykernel)",
   "language": "python",
   "name": "python3"
  },
  "language_info": {
   "codemirror_mode": {
    "name": "ipython",
    "version": 3
   },
   "file_extension": ".py",
   "mimetype": "text/x-python",
   "name": "python",
   "nbconvert_exporter": "python",
   "pygments_lexer": "ipython3",
   "version": "3.10.5"
  }
 },
 "nbformat": 4,
 "nbformat_minor": 5
}
