{
 "cells": [
  {
   "cell_type": "code",
   "execution_count": null,
   "id": "24f9f212-ad38-4301-9640-5fa4b8d6e3ed",
   "metadata": {},
   "outputs": [],
   "source": [
    "%load_ext autoreload\n",
    "%autoreload 2"
   ]
  },
  {
   "cell_type": "code",
   "execution_count": null,
   "id": "9a6d0103-2cd9-4c3d-9a0d-8c1c3fb6c5c2",
   "metadata": {},
   "outputs": [],
   "source": [
    "import os\n",
    "import shutil\n",
    "from pathlib import Path\n",
    "\n",
    "import matplotlib.pyplot as plt\n",
    "import numpy as np\n",
    "import obspy\n",
    "from IPython.display import Image, display\n",
    "\n",
    "from utils.misc import print_verification\n",
    "from utils.plot_all_seismograms import plot_all_seismograms\n",
    "from utils.plot_ascii_trace import read_ascii_trace"
   ]
  },
  {
   "cell_type": "code",
   "execution_count": null,
   "id": "d8aa44bb-b7eb-4717-a202-8a463b560d2c",
   "metadata": {},
   "outputs": [],
   "source": [
    "# Define root_dir only if it is not already defined. This way root_dir stays the same, even if you change the work directory.\n",
    "try:\n",
    "    root_dir\n",
    "except NameError:\n",
    "    root_dir = Path(os.curdir).absolute()\n",
    "\n",
    "# SPECFEM bin directory\n",
    "SPECFEM2D_BIN = root_dir / \"specfem2d\" / \"bin\"\n",
    "# Simulation directory\n",
    "run_folder = root_dir / \"02_Homogeneous_Model\"\n",
    "# Go into run directory\n",
    "os.chdir(run_folder)\n",
    "# More readable paths\n",
    "run_folder = run_folder.relative_to(Path(\".\").absolute())\n",
    "output_folder = run_folder / \"OUTPUT_FILES\""
   ]
  },
  {
   "cell_type": "code",
   "execution_count": null,
   "id": "b40a053b-2b71-409c-b9db-5036e74dcca4",
   "metadata": {},
   "outputs": [],
   "source": [
    "def make_output_dir():\n",
    "    if output_folder.exists():\n",
    "        shutil.rmtree(output_folder)\n",
    "    output_folder.mkdir()"
   ]
  },
  {
   "cell_type": "markdown",
   "id": "0ee9bdc8-c4c3-412d-8382-06d1e183a022",
   "metadata": {
    "tags": []
   },
   "source": [
    "# Running the Simulation"
   ]
  },
  {
   "cell_type": "code",
   "execution_count": null,
   "id": "22e3fbda-c0e7-417a-9ddd-272e289352c7",
   "metadata": {},
   "outputs": [],
   "source": [
    "make_output_dir()"
   ]
  },
  {
   "cell_type": "markdown",
   "id": "00458034-e5dd-411f-b569-3f27471d762a",
   "metadata": {},
   "source": [
    "Running the mesher"
   ]
  },
  {
   "cell_type": "code",
   "execution_count": null,
   "id": "d49d33d1-d3cc-4e43-b0b2-2ce885803949",
   "metadata": {
    "tags": []
   },
   "outputs": [],
   "source": [
    "! $SPECFEM2D_BIN/xmeshfem2D > $output_folder/output_mesher.txt"
   ]
  },
  {
   "cell_type": "markdown",
   "id": "f0456a3d-636a-4e11-9c92-54333d28b5ba",
   "metadata": {},
   "source": [
    "Running the solver"
   ]
  },
  {
   "cell_type": "code",
   "execution_count": null,
   "id": "dded3371-07b9-490e-9271-6c0f614ab931",
   "metadata": {},
   "outputs": [],
   "source": [
    "! $SPECFEM2D_BIN/xspecfem2D > $output_folder/output_solver.txt"
   ]
  },
  {
   "cell_type": "markdown",
   "id": "612caaa2-12d3-4d48-8ade-e237c963a230",
   "metadata": {},
   "source": [
    "## Checking Stability"
   ]
  },
  {
   "cell_type": "code",
   "execution_count": null,
   "id": "cd55394b-8907-4f02-b8de-fbd835da9722",
   "metadata": {},
   "outputs": [],
   "source": [
    "start_pattern = \"*** Verification of simulation parameters ***\"\n",
    "end_pattern = \"=========================================\"\n",
    "started = False\n",
    "with open(output_folder / \"output_solver.txt\") as f:\n",
    "    for line in f:\n",
    "        if start_pattern in line:\n",
    "            started = True\n",
    "        if started and end_pattern in line:\n",
    "            started = False\n",
    "            break\n",
    "        if started:\n",
    "            print(line.strip())"
   ]
  },
  {
   "cell_type": "markdown",
   "id": "fb78f667-430d-4523-b66a-15b9f66cbc3e",
   "metadata": {},
   "source": [
    "## Wavefield Plot"
   ]
  },
  {
   "cell_type": "code",
   "execution_count": null,
   "id": "c7140614-27f6-4bab-9c1c-399b029684f2",
   "metadata": {},
   "outputs": [],
   "source": [
    "Image(output_folder / \"forward_image000000300.jpg\")"
   ]
  },
  {
   "cell_type": "markdown",
   "id": "a0b876ff-f23a-48e9-bf1a-07e45f35882e",
   "metadata": {},
   "source": [
    "## Seismograms"
   ]
  },
  {
   "cell_type": "code",
   "execution_count": null,
   "id": "e2d2e6df-895f-40a6-93e2-03d690f3d5ec",
   "metadata": {},
   "outputs": [],
   "source": [
    "bxx_files = sorted(output_folder.glob(\"*BXX.semd\"))\n",
    "bxz_files = sorted(output_folder.glob(\"*BXZ.semd\"))\n",
    "n_stations = len(bxx_files)\n",
    "\n",
    "fig, axes = plt.subplots(\n",
    "    nrows=n_stations, ncols=2, figsize=(20, 2 * n_stations), sharex=True, sharey=True\n",
    ")\n",
    "for i, bxx_file in enumerate(bxx_files):\n",
    "    tr = read_ascii_trace(bxx_file)\n",
    "    axes[i, 0].plot(tr.times() + tr.stats.b, tr.data, \"k\", label=tr.id)\n",
    "    axes[i, 0].legend()\n",
    "    axes[i, 0].set_xlim(tr.stats.b, tr.times()[-1] + tr.stats.b)\n",
    "\n",
    "for i, bxz_file in enumerate(bxz_files):\n",
    "    tr = read_ascii_trace(bxz_file)\n",
    "    axes[i, 1].plot(tr.times() + tr.stats.b, tr.data, \"k\", label=tr.id)\n",
    "    axes[i, 1].legend()\n",
    "\n",
    "fig.tight_layout()"
   ]
  },
  {
   "cell_type": "markdown",
   "id": "fc4beddf-b93d-433a-8d4c-ddf552787a3d",
   "metadata": {},
   "source": [
    "## Changing Source Frequency\n",
    "Maximum suggested (Ricker) source frequency is `10.88 Hz`. Let's see what happens when we exceed it.\n",
    "\n",
    "Currently it is `10 Hz`."
   ]
  },
  {
   "cell_type": "code",
   "execution_count": null,
   "id": "4aad5c8d-06b7-4602-b4a3-0457c5638616",
   "metadata": {},
   "outputs": [],
   "source": [
    "! grep -v ^# DATA/SOURCE"
   ]
  },
  {
   "cell_type": "code",
   "execution_count": null,
   "id": "2380e1fb-845d-4284-84e2-88e3d0406515",
   "metadata": {},
   "outputs": [],
   "source": [
    "! ../utils/parfile -f DATA/SOURCE -s f0 30.0"
   ]
  },
  {
   "cell_type": "code",
   "execution_count": null,
   "id": "d615433e-bff8-4e42-aaf6-b465dd147fb0",
   "metadata": {},
   "outputs": [],
   "source": [
    "! grep -v ^# DATA/SOURCE"
   ]
  },
  {
   "cell_type": "markdown",
   "id": "d32273d5-d2e9-4296-ba32-cf141e4da619",
   "metadata": {},
   "source": [
    "### Rerun the Simulations"
   ]
  },
  {
   "cell_type": "code",
   "execution_count": null,
   "id": "1cdca75a-c1de-48f5-a3a9-f7593b6bcba3",
   "metadata": {},
   "outputs": [],
   "source": [
    "make_output_dir()\n",
    "! $SPECFEM2D_BIN/xmeshfem2D > $output_folder/output_mesher.txt\n",
    "! $SPECFEM2D_BIN/xspecfem2D > $output_folder/output_solver.txt"
   ]
  },
  {
   "cell_type": "markdown",
   "id": "9bb9b40f-7ec6-4375-acd1-85d7fc68ecca",
   "metadata": {},
   "source": [
    "### Wavefield Plot"
   ]
  },
  {
   "cell_type": "code",
   "execution_count": null,
   "id": "9a1aa91b-c51f-4acc-8dca-c5b5bd790167",
   "metadata": {},
   "outputs": [],
   "source": [
    "Image(output_folder / \"forward_image000000300.jpg\")"
   ]
  },
  {
   "cell_type": "markdown",
   "id": "cab8445c-3a75-4e1f-8b2f-c5575c0094a6",
   "metadata": {},
   "source": [
    "### Seismograms"
   ]
  },
  {
   "cell_type": "code",
   "execution_count": null,
   "id": "22888852-f615-4d1f-8bcc-e0e31e054fab",
   "metadata": {},
   "outputs": [],
   "source": [
    "fig, axes = plot_all_seismograms(output_folder, sharey=True)\n",
    "fig.tight_layout()"
   ]
  },
  {
   "cell_type": "markdown",
   "id": "43816d4a-4c15-4e42-be66-4cca96057be5",
   "metadata": {},
   "source": [
    "### Filtered Seismograms"
   ]
  },
  {
   "cell_type": "code",
   "execution_count": null,
   "id": "584390c1-0e6d-4233-b88c-15721419006e",
   "metadata": {},
   "outputs": [],
   "source": [
    "fig, axes = plot_all_seismograms(output_folder, bandpass_range=(0.01, 15), sharey=True)\n",
    "fig.tight_layout()"
   ]
  },
  {
   "cell_type": "markdown",
   "id": "ecc6048a-cb03-46b5-9302-4e1ee3646515",
   "metadata": {},
   "source": [
    "### Resetting f0"
   ]
  },
  {
   "cell_type": "code",
   "execution_count": null,
   "id": "c7edf0f8-eccb-4de6-88a6-921b0e0537cd",
   "metadata": {},
   "outputs": [],
   "source": [
    "# Set the default f0\n",
    "! ../utils/parfile -f DATA/SOURCE -s f0 10.0"
   ]
  }
 ],
 "metadata": {
  "kernelspec": {
   "display_name": "Python 3 (ipykernel)",
   "language": "python",
   "name": "python3"
  },
  "language_info": {
   "codemirror_mode": {
    "name": "ipython",
    "version": 3
   },
   "file_extension": ".py",
   "mimetype": "text/x-python",
   "name": "python",
   "nbconvert_exporter": "python",
   "pygments_lexer": "ipython3",
   "version": "3.10.5"
  }
 },
 "nbformat": 4,
 "nbformat_minor": 5
}
