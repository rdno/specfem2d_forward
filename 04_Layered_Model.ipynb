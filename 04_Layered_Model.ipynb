{
 "cells": [
  {
   "cell_type": "code",
   "execution_count": null,
   "id": "24f9f212-ad38-4301-9640-5fa4b8d6e3ed",
   "metadata": {},
   "outputs": [],
   "source": [
    "%load_ext autoreload\n",
    "%autoreload 2"
   ]
  },
  {
   "cell_type": "code",
   "execution_count": null,
   "id": "9a6d0103-2cd9-4c3d-9a0d-8c1c3fb6c5c2",
   "metadata": {},
   "outputs": [],
   "source": [
    "import os\n",
    "import shutil\n",
    "from pathlib import Path\n",
    "\n",
    "import matplotlib.pyplot as plt\n",
    "import numpy as np\n",
    "import obspy\n",
    "from IPython.display import Image, display\n",
    "\n",
    "from utils.misc import print_verification\n",
    "from utils.plot_all_seismograms import plot_all_seismograms\n",
    "from utils.plot_ascii_trace import read_ascii_trace"
   ]
  },
  {
   "cell_type": "code",
   "execution_count": null,
   "id": "d8aa44bb-b7eb-4717-a202-8a463b560d2c",
   "metadata": {},
   "outputs": [],
   "source": [
    "# Define root_dir only if it is not already defined. This way root_dir stays the same, even if you change the work directory.\n",
    "try:\n",
    "    root_dir\n",
    "except NameError:\n",
    "    root_dir = Path(os.curdir).absolute()\n",
    "\n",
    "# SPECFEM bin directory\n",
    "SPECFEM2D_BIN = root_dir / \"specfem2d\" / \"bin\"\n",
    "# Simulation directory\n",
    "run_folder = root_dir / \"03_Layered_Model\"\n",
    "# Go into run directory\n",
    "os.chdir(run_folder)\n",
    "# More readable paths\n",
    "run_folder = run_folder.relative_to(Path(\".\").absolute())\n",
    "output_folder = run_folder / \"OUTPUT_FILES\""
   ]
  },
  {
   "cell_type": "code",
   "execution_count": null,
   "id": "b40a053b-2b71-409c-b9db-5036e74dcca4",
   "metadata": {},
   "outputs": [],
   "source": [
    "def make_output_dir():\n",
    "    if output_folder.exists():\n",
    "        shutil.rmtree(output_folder)\n",
    "    output_folder.mkdir()"
   ]
  },
  {
   "cell_type": "markdown",
   "id": "ade01aeb-5911-4a16-a023-6a58d7b84dec",
   "metadata": {
    "tags": []
   },
   "source": [
    "# Running the Simulation"
   ]
  },
  {
   "cell_type": "code",
   "execution_count": null,
   "id": "1cdca75a-c1de-48f5-a3a9-f7593b6bcba3",
   "metadata": {},
   "outputs": [],
   "source": [
    "make_output_dir()\n",
    "! $SPECFEM2D_BIN/xmeshfem2D > $output_folder/output_mesher.txt\n",
    "! $SPECFEM2D_BIN/xspecfem2D > $output_folder/output_solver.txt"
   ]
  },
  {
   "cell_type": "markdown",
   "id": "65129f33-7c62-46d9-bfe3-e2a4cc6fa3b6",
   "metadata": {},
   "source": [
    "### Wavefield Plot"
   ]
  },
  {
   "cell_type": "code",
   "execution_count": null,
   "id": "c08e7fd7-4c80-4ac1-ae83-05afeec733c4",
   "metadata": {},
   "outputs": [],
   "source": [
    "Image(output_folder / \"forward_image000000500.jpg\")"
   ]
  },
  {
   "cell_type": "markdown",
   "id": "481fa666-99af-4587-8389-9251786068ba",
   "metadata": {},
   "source": [
    "### Seismograms"
   ]
  },
  {
   "cell_type": "code",
   "execution_count": null,
   "id": "7e177c6c-4adf-407b-8690-384691a5bd6d",
   "metadata": {},
   "outputs": [],
   "source": [
    "fig, axes = plot_all_seismograms(output_folder)\n",
    "fig.tight_layout()"
   ]
  },
  {
   "cell_type": "markdown",
   "id": "38db8af5-de8a-4458-86e4-1f0d9f21d5fa",
   "metadata": {},
   "source": [
    "# Changing the velocity"
   ]
  },
  {
   "cell_type": "code",
   "execution_count": null,
   "id": "80532935-0e94-4f03-a128-beb7a534ef9f",
   "metadata": {},
   "outputs": [],
   "source": [
    "print_verification()"
   ]
  },
  {
   "cell_type": "code",
   "execution_count": null,
   "id": "bd75973a-76e6-4b9c-89f2-6d50fcca2fc1",
   "metadata": {},
   "outputs": [],
   "source": [
    "! grep -v ^# ./DATA/Par_file | grep nbmodels -A 4"
   ]
  },
  {
   "cell_type": "code",
   "execution_count": null,
   "id": "6b071a9f-a3e2-4fb5-b976-41d508a3b347",
   "metadata": {},
   "outputs": [],
   "source": [
    "# Double the velocity\n",
    "! sed -i \"s/3500.d0/7000.d0/g\" DATA/Par_file\n",
    "! sed -i \"s/2000.00d0/4000.00d0/g\" DATA/Par_file"
   ]
  },
  {
   "cell_type": "code",
   "execution_count": null,
   "id": "c07ee081-18f2-4ee4-8de1-f1d18dcf0fa4",
   "metadata": {},
   "outputs": [],
   "source": [
    "! grep -v ^# ./DATA/Par_file | grep nbmodels -A 4"
   ]
  },
  {
   "cell_type": "code",
   "execution_count": null,
   "id": "e9130aff-035a-4d36-92d9-b83b1162ac78",
   "metadata": {},
   "outputs": [],
   "source": [
    "# Rerun the simulations\n",
    "make_output_dir()\n",
    "! $SPECFEM2D_BIN/xmeshfem2D > $output_folder/output_mesher.txt\n",
    "! $SPECFEM2D_BIN/xspecfem2D > $output_folder/output_solver.txt"
   ]
  },
  {
   "cell_type": "code",
   "execution_count": null,
   "id": "565f26cc-bc7f-4170-a678-720fea4d7893",
   "metadata": {},
   "outputs": [],
   "source": [
    "print_verification()"
   ]
  },
  {
   "cell_type": "code",
   "execution_count": null,
   "id": "e333e2c3-a4cb-4c15-b1a6-901a7eb26104",
   "metadata": {},
   "outputs": [],
   "source": [
    "# Turn it back\n",
    "! sed -i \"s/7000.d0/3500.d0/g\" DATA/Par_file\n",
    "! sed -i \"s/4000.00d0/2000.00d0/g\" DATA/Par_file"
   ]
  }
 ],
 "metadata": {
  "kernelspec": {
   "display_name": "Python 3 (ipykernel)",
   "language": "python",
   "name": "python3"
  },
  "language_info": {
   "codemirror_mode": {
    "name": "ipython",
    "version": 3
   },
   "file_extension": ".py",
   "mimetype": "text/x-python",
   "name": "python",
   "nbconvert_exporter": "python",
   "pygments_lexer": "ipython3",
   "version": "3.10.5"
  }
 },
 "nbformat": 4,
 "nbformat_minor": 5
}
