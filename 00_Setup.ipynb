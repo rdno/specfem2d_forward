{
 "cells": [
  {
   "cell_type": "markdown",
   "id": "48182aa6-a203-4540-a90f-b8a7df20b6fc",
   "metadata": {},
   "source": [
    "# Installing Specfem"
   ]
  },
  {
   "cell_type": "markdown",
   "id": "9ef56937-b7cb-479d-9ebb-487cbbeda6d5",
   "metadata": {},
   "source": [
    "Clone the git repository"
   ]
  },
  {
   "cell_type": "code",
   "execution_count": null,
   "id": "37c5a2d6-e1f7-4a71-af9a-a0a6797698f8",
   "metadata": {},
   "outputs": [],
   "source": [
    "%%sh\n",
    "git clone --branch=devel https://github.com/geodynamics/specfem2d.git"
   ]
  },
  {
   "cell_type": "markdown",
   "id": "3f092d15-292e-4593-be94-dd382350dd50",
   "metadata": {},
   "source": [
    "Sync the version"
   ]
  },
  {
   "cell_type": "code",
   "execution_count": null,
   "id": "e8f030bf-b09b-4d4e-994e-3203110d0f44",
   "metadata": {},
   "outputs": [],
   "source": [
    "%%sh\n",
    "cd specfem2d\n",
    "git checkout 798ce0c"
   ]
  },
  {
   "cell_type": "markdown",
   "id": "963f0884-73bb-410e-b869-2f348e5b0dbc",
   "metadata": {},
   "source": [
    "Configure and compile"
   ]
  },
  {
   "cell_type": "code",
   "execution_count": null,
   "id": "3570edd6-9c0a-4b0c-a38a-aa73e0d828aa",
   "metadata": {
    "tags": []
   },
   "outputs": [],
   "source": [
    "%%sh\n",
    "cd specfem2d\n",
    "./configure --with-mpi"
   ]
  },
  {
   "cell_type": "code",
   "execution_count": null,
   "id": "a4f59c72-b2eb-4d09-8ac4-fdeace69b28f",
   "metadata": {
    "tags": []
   },
   "outputs": [],
   "source": [
    "%%sh\n",
    "cd specfem2d\n",
    "make all"
   ]
  },
  {
   "cell_type": "code",
   "execution_count": null,
   "id": "b08c4aab-b939-483a-a559-ce6865408b7d",
   "metadata": {},
   "outputs": [],
   "source": [
    "%%sh\n",
    "ls specfem2d/bin"
   ]
  }
 ],
 "metadata": {
  "kernelspec": {
   "display_name": "Python 3 (ipykernel)",
   "language": "python",
   "name": "python3"
  },
  "language_info": {
   "codemirror_mode": {
    "name": "ipython",
    "version": 3
   },
   "file_extension": ".py",
   "mimetype": "text/x-python",
   "name": "python",
   "nbconvert_exporter": "python",
   "pygments_lexer": "ipython3",
   "version": "3.10.5"
  }
 },
 "nbformat": 4,
 "nbformat_minor": 5
}
